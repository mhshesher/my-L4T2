{
  "nbformat": 4,
  "nbformat_minor": 0,
  "metadata": {
    "colab": {
      "name": "decision tree classified.ipynb",
      "provenance": []
    },
    "kernelspec": {
      "name": "python3",
      "display_name": "Python 3"
    }
  },
  "cells": [
    {
      "cell_type": "code",
      "metadata": {
        "id": "ssela62BXGwh"
      },
      "source": [
        "import pandas as pd\n",
        "import numpy as np\n",
        "import math"
      ],
      "execution_count": 1,
      "outputs": []
    },
    {
      "cell_type": "code",
      "metadata": {
        "id": "Ux3f3djxSw9d"
      },
      "source": [
        "# dataset 1\n",
        "\n",
        "s=[['1', 'farming', 'medium', 'no', 'fair',' no'],\n",
        "['2','farming','low','yes','fair','no'],\n",
        "['3','oil industry', 'medium','no','fair', 'no'],\n",
        "['4','oil industry','low','yes','fair','yes'],\n",
        "['5','oil industry','medium','yes','excellent','yes'],\n",
        "['6','banking','medium','no','excellent','yes'],\n",
        "['7','oil industry','high','no','fair','no'],\n",
        "['8','oil industry','high','no','excellent','no'],\n",
        "['9','banking','high','no','fair','yes'],\n",
        "['10','farming','low','yes','excellent','yes'],\n",
        "['11','banking','low','yes','excellent','yes'],\n",
        "['12','farming','medium','yes','fair','no'],\n",
        "['13','banking','high','yes','fair','yes'],\n",
        "['14','farming','medium','no','excellent','yes']]\n",
        "\n",
        "df=pd.DataFrame(s,columns=['Person_ID','Sector of activity','Income','Self-Employed','Credit-rating','Class: Buys-RRSP'])    "
      ],
      "execution_count": 2,
      "outputs": []
    },
    {
      "cell_type": "code",
      "metadata": {
        "id": "b2gU0KuUYaQV"
      },
      "source": [
        "# getting features from the dataset\n",
        "\n",
        "features=np.array(df[['Sector of activity','Income','Self-Employed','Credit-rating']])"
      ],
      "execution_count": 3,
      "outputs": []
    },
    {
      "cell_type": "code",
      "metadata": {
        "id": "0KbPPex6jlB5"
      },
      "source": [
        "# getting labels from the dataset\n",
        "\n",
        "label=np.array(df[['Class: Buys-RRSP']])\n",
        "label=label.flatten()"
      ],
      "execution_count": 4,
      "outputs": []
    },
    {
      "cell_type": "code",
      "metadata": {
        "id": "KsBTmU4mYvDV"
      },
      "source": [
        "# necessary functions\n",
        "\n",
        "def label_entropy(label):\n",
        "\n",
        "    label_count={i:0 for i in set(label)}\n",
        "    for i in label:\n",
        "        for j in label_count.keys():\n",
        "            if i==j:\n",
        "                    label_count[j]+=1\n",
        "\n",
        "    I_label=0\n",
        "\n",
        "    for i in label_count.keys():\n",
        "        I_label+=(label_count[i]/len(label))*math.log2(label_count[i]/len(label))*(-1)\n",
        "\n",
        "    return I_label\n",
        "\n",
        "def sample_entropy(feature, label):\n",
        "    \n",
        "    sample_unique={i:[] for i in set(feature)}\n",
        "    for i in range(len(feature)):\n",
        "        for j in sample_unique.keys():\n",
        "            if feature[i]==j:\n",
        "                sample_unique[j].append(label[i])\n",
        "\n",
        "    I_samples={i:label_entropy(sample_unique[i]) for i in sample_unique.keys()}\n",
        "    \n",
        "    return I_samples\n",
        "\n",
        "def feature_gain(feature, label):\n",
        "    entropy_label=label_entropy(label)\n",
        "\n",
        "    sample_count={i:0 for i in set(feature)}\n",
        "    for i in feature:\n",
        "        for j in sample_count.keys():\n",
        "            if i==j:\n",
        "                sample_count[j]+=1\n",
        "    \n",
        "    entropy_samples=sample_entropy(feature,label)\n",
        "\n",
        "    gain=entropy_label\n",
        "    for i in sample_count.keys():\n",
        "        gain-=((sample_count[i]/len(feature))*entropy_samples[i])\n",
        "    \n",
        "    return gain"
      ],
      "execution_count": 11,
      "outputs": []
    },
    {
      "cell_type": "code",
      "metadata": {
        "colab": {
          "base_uri": "https://localhost:8080/"
        },
        "id": "bPwylytAibbh",
        "outputId": "d478e036-a2e0-497d-fc1c-e5cbe5749e43"
      },
      "source": [
        "# calculating gain of each feature\n",
        "\n",
        "for i in range(len(features[0])):\n",
        "    print(feature_gain(features[:,i],label))"
      ],
      "execution_count": 12,
      "outputs": [
        {
          "output_type": "stream",
          "text": [
            "0.3734953562613924\n",
            "0.1209520310264034\n",
            "0.10784107173763835\n",
            "0.1820058147602137\n"
          ],
          "name": "stdout"
        }
      ]
    }
  ]
}