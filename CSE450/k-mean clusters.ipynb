{
  "nbformat": 4,
  "nbformat_minor": 0,
  "metadata": {
    "colab": {
      "name": "k-mean clusters.ipynb",
      "provenance": [],
      "collapsed_sections": []
    },
    "kernelspec": {
      "name": "python3",
      "display_name": "Python 3"
    }
  },
  "cells": [
    {
      "cell_type": "code",
      "metadata": {
        "id": "p74YGGbk3paU"
      },
      "source": [
        "import pandas as pd\n",
        "import numpy as np"
      ],
      "execution_count": null,
      "outputs": []
    },
    {
      "cell_type": "code",
      "metadata": {
        "id": "dXCJeVDjALmH"
      },
      "source": [
        "# creating the dataset\n",
        "features=np.array([[9.0,10.5],[17.0,20.0],[8.5,5.0],[7.0,6.0],[10.5,1.0],[6.5,10.0],[6.5,14.0],[9.5,16.0],[10.5,9.5],[13.56,15.25],[16.62,21],[19.68,26.75],[22.74,32.5]])"
      ],
      "execution_count": null,
      "outputs": []
    },
    {
      "cell_type": "code",
      "metadata": {
        "id": "BqfLj4Bp32tr"
      },
      "source": [
        "# necessary functions\n",
        "\n",
        "def dis_eucle(x,y):\n",
        "    return np.linalg.norm(x-y)\n",
        "\n",
        "def dis_man(x,y):\n",
        "    return abs(x[0]-y[0])+abs(x[1]-y[1])\n",
        "\n",
        "def distance_calculation(feat_dis,cent_dis):\n",
        "    dis=[]\n",
        "    for i in range(len(feat_dis)):\n",
        "        tmp=[]\n",
        "        for j in cent_dis:\n",
        "            tmp.append(dis_man(feat_dis[i], j))\n",
        "        dis.append(tmp)\n",
        "\n",
        "    return dis\n",
        "\n",
        "def clustering(k_clus,dis_clus):\n",
        "    clus={i:[] for i in range(k_clus)}\n",
        "\n",
        "    for i in range(len(dis_clus)):\n",
        "        if dis_clus[i][0]==np.min(dis_clus[i]):\n",
        "            clus[0].append(i)\n",
        "        elif dis_clus[i][1]==np.min(dis_clus[i]):\n",
        "            clus[1].append(i)\n",
        "        elif dis_clus[i][2]==np.min(dis_clus[i]):\n",
        "            clus[2].append(i)\n",
        "    \n",
        "    return clus\n",
        "\n",
        "def centroids_update(k_cent,clu_cent,feat_cent):\n",
        "    cent_new=[]\n",
        "\n",
        "    for i in range(k_cent):\n",
        "        cent_new.append(np.mean(feat_cent[clu_cent[i]],axis=0))\n",
        "\n",
        "    return cent_new\n",
        "\n",
        "def checker(clu_old,clu_new):\n",
        "    \n",
        "    for i in clu_old.keys():\n",
        "        if sorted(clu_old[i])!=sorted(clu_new[i]):\n",
        "            return 0\n",
        "\n",
        "    return 1\n",
        "\n",
        "def trimmer(x):\n",
        "    for i in range(len(x)):\n",
        "        for j in range(len(x[0])):\n",
        "            x[i][j]=(round(x[i][j]*100))/100.0\n",
        "    \n",
        "    return x"
      ],
      "execution_count": null,
      "outputs": []
    },
    {
      "cell_type": "code",
      "metadata": {
        "id": "d4kYxEJU4Hxj",
        "colab": {
          "base_uri": "https://localhost:8080/"
        },
        "outputId": "c6e27e18-f894-440f-d5a2-b40adfb50b9e"
      },
      "source": [
        "# setting clusters and centroids\n",
        "k=3\n",
        "\n",
        "centroids=[[ 9.0, 10.5], [6.5, 14], [22.74, 32.5 ]]\n",
        "centroids"
      ],
      "execution_count": null,
      "outputs": [
        {
          "output_type": "execute_result",
          "data": {
            "text/plain": [
              "[[9.0, 10.5], [6.5, 14], [22.74, 32.5]]"
            ]
          },
          "metadata": {},
          "execution_count": 4
        }
      ]
    },
    {
      "cell_type": "code",
      "metadata": {
        "id": "AhjvGJIs5anF"
      },
      "source": [
        "# calculating initial distance and clusters\n",
        "distance=distance_calculation(features,centroids)\n",
        "clusters_old=clustering(k,distance)"
      ],
      "execution_count": null,
      "outputs": []
    },
    {
      "cell_type": "code",
      "metadata": {
        "colab": {
          "base_uri": "https://localhost:8080/"
        },
        "id": "zWCnRaQn_2cK",
        "outputId": "c2cdd8e7-a9b1-40f1-8d82-9e2195b1442b"
      },
      "source": [
        "print(\"Iteration 1\\n\")\n",
        "print(\"Centroids\")\n",
        "for i in centroids: print(i)\n",
        "print('')\n",
        "df0=pd.DataFrame(trimmer(distance), columns=['distance from m1','distance from m2','distance from m3'])\n",
        "df0.to_csv('distance of iteration 1.csv')\n",
        "print(\"Clusters\")\n",
        "for i,j in clusters_old.items(): print(i,j, sep=': ')"
      ],
      "execution_count": null,
      "outputs": [
        {
          "output_type": "stream",
          "text": [
            "Iteration 1\n",
            "\n",
            "Centroids\n",
            "[9.0, 10.5]\n",
            "[6.5, 14]\n",
            "[22.74, 32.5]\n",
            "\n",
            "Clusters\n",
            "0: [0, 2, 3, 4, 5, 8, 9]\n",
            "1: [1, 6, 7, 10]\n",
            "2: [11, 12]\n"
          ],
          "name": "stdout"
        }
      ]
    },
    {
      "cell_type": "code",
      "metadata": {
        "id": "fHl-mDDy5kmD",
        "colab": {
          "base_uri": "https://localhost:8080/"
        },
        "outputId": "0ae2e19a-0665-4dda-d53b-402c4d0cec8c"
      },
      "source": [
        "# updating clusters\n",
        "ct=2\n",
        "while True:\n",
        "    centroid_new=centroids_update(k,clusters_old,features)\n",
        "    distance_new=distance_calculation(features,centroid_new)\n",
        "    clusters_new=clustering(k,distance_new)\n",
        "    print('Iteration %d\\n'%ct)\n",
        "    print(\"Centroids\")\n",
        "    for i in centroid_new: print(i)\n",
        "    df0=pd.DataFrame(trimmer(distance_new), columns=['distance from m1','distance from m2','distance from m3'])\n",
        "    df0.to_csv('distance of iteration '+str(ct)+'.csv')\n",
        "    print('')\n",
        "    print(\"Clusters\")\n",
        "    for i,j in clusters_new.items(): print(i,j, sep=': ')\n",
        "    print('\\n\\n')\n",
        "    if checker(clusters_old,clusters_new)==1:\n",
        "        break\n",
        "\n",
        "    clusters_old=clusters_new\n",
        "    ct+=1"
      ],
      "execution_count": null,
      "outputs": [
        {
          "output_type": "stream",
          "text": [
            "Iteration 2\n",
            "\n",
            "Centroids\n",
            "[9.36571429 8.17857143]\n",
            "[12.405 17.75 ]\n",
            "[21.21  29.625]\n",
            "\n",
            "Clusters\n",
            "0: [0, 2, 3, 4, 5, 6, 8]\n",
            "1: [1, 7, 9, 10]\n",
            "2: [11, 12]\n",
            "\n",
            "\n",
            "\n",
            "Iteration 3\n",
            "\n",
            "Centroids\n",
            "[8.35714286 8.        ]\n",
            "[14.17   18.0625]\n",
            "[21.21  29.625]\n",
            "\n",
            "Clusters\n",
            "0: [0, 2, 3, 4, 5, 6, 8]\n",
            "1: [1, 7, 9, 10]\n",
            "2: [11, 12]\n",
            "\n",
            "\n",
            "\n"
          ],
          "name": "stdout"
        }
      ]
    },
    {
      "cell_type": "code",
      "metadata": {
        "id": "Xql4xDc-5yGQ"
      },
      "source": [
        "# getting labels of each clusters\n",
        "labels_lst=[]\n",
        "\n",
        "for i in range(len(features)):\n",
        "    if i in clusters_new[0]:\n",
        "        labels_lst.append(0)\n",
        "    elif i in clusters_new[1]:\n",
        "        labels_lst.append(1)\n",
        "    elif i in clusters_new[2]:\n",
        "        labels_lst.append(2)\n",
        "\n",
        "labels=np.array(labels_lst)"
      ],
      "execution_count": null,
      "outputs": []
    }
  ]
}